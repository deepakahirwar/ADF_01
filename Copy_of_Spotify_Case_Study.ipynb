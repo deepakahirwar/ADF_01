{
  "nbformat": 4,
  "nbformat_minor": 0,
  "metadata": {
    "colab": {
      "name": "Copy of Spotify Case Study.ipynb",
      "provenance": [],
      "collapsed_sections": [],
      "include_colab_link": true
    },
    "kernelspec": {
      "display_name": "Python 3",
      "language": "python",
      "name": "python3"
    }
  },
  "cells": [
    {
      "cell_type": "markdown",
      "metadata": {
        "id": "view-in-github",
        "colab_type": "text"
      },
      "source": [
        "<a href=\"https://colab.research.google.com/github/deepakahirwar/ADF_01/blob/main/Copy_of_Spotify_Case_Study.ipynb\" target=\"_parent\"><img src=\"https://colab.research.google.com/assets/colab-badge.svg\" alt=\"Open In Colab\"/></a>"
      ]
    },
    {
      "cell_type": "markdown",
      "metadata": {
        "id": "Oc7IA0RCF4Mc"
      },
      "source": [
        "![sslogo](https://github.com/stratascratch/stratascratch.github.io/raw/master/assets/sslogo.jpg)\n",
        "\n",
        "# Spotify Case Study\n",
        "\n",
        "### Business Case\n",
        "\n",
        "The Spotify marketing team is starting an advertising campaign. Their goal is to maximize the number of daily streams across all regions in the world. The only dataset they have is their worldwide daily song rankings which is a list of songs ranked by the number of user streams and organized by regions. As the manager of the marketing team, how should the team focus their advertising resources and what should they do to maximize the number of daily streams?\n",
        "\n",
        "### Questions\n",
        "#### A questions to answer to get you started:\n",
        "\n",
        "- What percentage of total streams come from the top 10 artists? \n",
        "- What percentage of total streams come from the top 10 tracknames?\n",
        "- Which artists had the most streams in 2017? List the top 10 artists and the total number of streams on Spotify.\n",
        "- Do artists have several tracks in the top 100? 200? List the artists by the number of track names in the top 200 in descending order (you'll need to take into account the number of regions the artist is in).\n",
        "- How do the number of streams in the top 10 differ than the number of streams in the top 50? top 100? top 200? Find the average number of streams in the top 10, 50, 100, 200.\n",
        "- How many different artists are there in the top 100 vs top 101-200? Compare the number of artists in the top 100 vs the top 101-200.\n",
        "\n",
        "#### A few open ended questions to guide your recommendations:\n",
        "\n",
        "- Which artists should the marketing team invest in? Why? Feel free to add any additional analytical research. \n",
        "- What are your recommendations to maximize the number of streams? Would you focus on certain artists or a certain position? Expand your thoughts with some recommendations."
      ]
    },
    {
      "cell_type": "markdown",
      "source": [
        ""
      ],
      "metadata": {
        "id": "TgYj7Cku8nzT"
      }
    },
    {
      "cell_type": "markdown",
      "source": [
        ""
      ],
      "metadata": {
        "id": "kk3whtx98n4r"
      }
    },
    {
      "cell_type": "code",
      "source": [
        ""
      ],
      "metadata": {
        "id": "9v_pXjxG5NSh"
      },
      "execution_count": null,
      "outputs": []
    },
    {
      "cell_type": "markdown",
      "metadata": {
        "id": "BaRR_paGtabj"
      },
      "source": [
        "# New Section"
      ]
    },
    {
      "cell_type": "markdown",
      "metadata": {
        "id": "eA_3E2GWF4Me"
      },
      "source": [
        "### Imports"
      ]
    },
    {
      "cell_type": "code",
      "metadata": {
        "id": "t5bfzBmgF4Mf"
      },
      "source": [
        "\n",
        "# import numpy, pandas, and spotify data(from files in canvas)\n",
        "import pandas as pd\n",
        "import csv \n",
        "import numpy as np\n",
        "file = 'spotify_daily_rankings_2017_us.csv'\n",
        "df = pd.read_csv(file)"
      ],
      "execution_count": 3,
      "outputs": []
    },
    {
      "cell_type": "markdown",
      "source": [
        ""
      ],
      "metadata": {
        "id": "mAmD2XEfJKiG"
      }
    },
    {
      "cell_type": "markdown",
      "metadata": {
        "id": "6LK692kHBiAQ"
      },
      "source": [
        "#### Print the dataframe"
      ]
    },
    {
      "cell_type": "code",
      "source": [
        "df"
      ],
      "metadata": {
        "colab": {
          "base_uri": "https://localhost:8080/",
          "height": 424
        },
        "id": "X4Xt_o5reS4U",
        "outputId": "f8a25dd5-e26b-435e-c8d4-36bf30773222"
      },
      "execution_count": 4,
      "outputs": [
        {
          "output_type": "execute_result",
          "data": {
            "text/plain": [
              "       position                               trackname            artist  \\\n",
              "0             1     Bad and Boujee (feat. Lil Uzi Vert)             Migos   \n",
              "1             2                               Fake Love             Drake   \n",
              "2             3                                 Starboy        The Weeknd   \n",
              "3             4                                  Closer  The Chainsmokers   \n",
              "4             5                           Black Beatles      Rae Sremmurd   \n",
              "...         ...                                     ...               ...   \n",
              "74195       196                                Portland             Drake   \n",
              "74196       197                               All On Me      Devin Dawson   \n",
              "74197       198  From The D To The A (feat. Lil Yachty)      Tee Grizzley   \n",
              "74198       199                            Now Or Never            Halsey   \n",
              "74199       200                So Good (& Metro Boomin)          Big Sean   \n",
              "\n",
              "       streams                                                url        date  \n",
              "0      1371493  https://open.spotify.com/track/4Km5HrUvYTaSUfi...  01-01-2017  \n",
              "1      1180074  https://open.spotify.com/track/343YBumqHu19cGo...  01-01-2017  \n",
              "2      1064351  https://open.spotify.com/track/5aAx2yezTd8zXrk...  01-01-2017  \n",
              "3      1010492  https://open.spotify.com/track/7BKLCZ1jbUBVqRi...  01-01-2017  \n",
              "4       874289  https://open.spotify.com/track/6fujklziTHa8uoM...  01-01-2017  \n",
              "...        ...                                                ...         ...  \n",
              "74195   184537  https://open.spotify.com/track/2bjwRfXMk4uRgOD...  01-09-2018  \n",
              "74196   184519  https://open.spotify.com/track/2mfahQ0EaaZWq4c...  01-09-2018  \n",
              "74197   184428  https://open.spotify.com/track/2NyrXRn4tancYPW...  01-09-2018  \n",
              "74198   184394  https://open.spotify.com/track/7i2DJ88J7jQ8K7z...  01-09-2018  \n",
              "74199   184149  https://open.spotify.com/track/0fWBFDRTIuk8ZgN...  01-09-2018  \n",
              "\n",
              "[74200 rows x 6 columns]"
            ],
            "text/html": [
              "\n",
              "  <div id=\"df-6364681f-c79a-40fa-a3e8-ca484e18c6fe\">\n",
              "    <div class=\"colab-df-container\">\n",
              "      <div>\n",
              "<style scoped>\n",
              "    .dataframe tbody tr th:only-of-type {\n",
              "        vertical-align: middle;\n",
              "    }\n",
              "\n",
              "    .dataframe tbody tr th {\n",
              "        vertical-align: top;\n",
              "    }\n",
              "\n",
              "    .dataframe thead th {\n",
              "        text-align: right;\n",
              "    }\n",
              "</style>\n",
              "<table border=\"1\" class=\"dataframe\">\n",
              "  <thead>\n",
              "    <tr style=\"text-align: right;\">\n",
              "      <th></th>\n",
              "      <th>position</th>\n",
              "      <th>trackname</th>\n",
              "      <th>artist</th>\n",
              "      <th>streams</th>\n",
              "      <th>url</th>\n",
              "      <th>date</th>\n",
              "    </tr>\n",
              "  </thead>\n",
              "  <tbody>\n",
              "    <tr>\n",
              "      <th>0</th>\n",
              "      <td>1</td>\n",
              "      <td>Bad and Boujee (feat. Lil Uzi Vert)</td>\n",
              "      <td>Migos</td>\n",
              "      <td>1371493</td>\n",
              "      <td>https://open.spotify.com/track/4Km5HrUvYTaSUfi...</td>\n",
              "      <td>01-01-2017</td>\n",
              "    </tr>\n",
              "    <tr>\n",
              "      <th>1</th>\n",
              "      <td>2</td>\n",
              "      <td>Fake Love</td>\n",
              "      <td>Drake</td>\n",
              "      <td>1180074</td>\n",
              "      <td>https://open.spotify.com/track/343YBumqHu19cGo...</td>\n",
              "      <td>01-01-2017</td>\n",
              "    </tr>\n",
              "    <tr>\n",
              "      <th>2</th>\n",
              "      <td>3</td>\n",
              "      <td>Starboy</td>\n",
              "      <td>The Weeknd</td>\n",
              "      <td>1064351</td>\n",
              "      <td>https://open.spotify.com/track/5aAx2yezTd8zXrk...</td>\n",
              "      <td>01-01-2017</td>\n",
              "    </tr>\n",
              "    <tr>\n",
              "      <th>3</th>\n",
              "      <td>4</td>\n",
              "      <td>Closer</td>\n",
              "      <td>The Chainsmokers</td>\n",
              "      <td>1010492</td>\n",
              "      <td>https://open.spotify.com/track/7BKLCZ1jbUBVqRi...</td>\n",
              "      <td>01-01-2017</td>\n",
              "    </tr>\n",
              "    <tr>\n",
              "      <th>4</th>\n",
              "      <td>5</td>\n",
              "      <td>Black Beatles</td>\n",
              "      <td>Rae Sremmurd</td>\n",
              "      <td>874289</td>\n",
              "      <td>https://open.spotify.com/track/6fujklziTHa8uoM...</td>\n",
              "      <td>01-01-2017</td>\n",
              "    </tr>\n",
              "    <tr>\n",
              "      <th>...</th>\n",
              "      <td>...</td>\n",
              "      <td>...</td>\n",
              "      <td>...</td>\n",
              "      <td>...</td>\n",
              "      <td>...</td>\n",
              "      <td>...</td>\n",
              "    </tr>\n",
              "    <tr>\n",
              "      <th>74195</th>\n",
              "      <td>196</td>\n",
              "      <td>Portland</td>\n",
              "      <td>Drake</td>\n",
              "      <td>184537</td>\n",
              "      <td>https://open.spotify.com/track/2bjwRfXMk4uRgOD...</td>\n",
              "      <td>01-09-2018</td>\n",
              "    </tr>\n",
              "    <tr>\n",
              "      <th>74196</th>\n",
              "      <td>197</td>\n",
              "      <td>All On Me</td>\n",
              "      <td>Devin Dawson</td>\n",
              "      <td>184519</td>\n",
              "      <td>https://open.spotify.com/track/2mfahQ0EaaZWq4c...</td>\n",
              "      <td>01-09-2018</td>\n",
              "    </tr>\n",
              "    <tr>\n",
              "      <th>74197</th>\n",
              "      <td>198</td>\n",
              "      <td>From The D To The A (feat. Lil Yachty)</td>\n",
              "      <td>Tee Grizzley</td>\n",
              "      <td>184428</td>\n",
              "      <td>https://open.spotify.com/track/2NyrXRn4tancYPW...</td>\n",
              "      <td>01-09-2018</td>\n",
              "    </tr>\n",
              "    <tr>\n",
              "      <th>74198</th>\n",
              "      <td>199</td>\n",
              "      <td>Now Or Never</td>\n",
              "      <td>Halsey</td>\n",
              "      <td>184394</td>\n",
              "      <td>https://open.spotify.com/track/7i2DJ88J7jQ8K7z...</td>\n",
              "      <td>01-09-2018</td>\n",
              "    </tr>\n",
              "    <tr>\n",
              "      <th>74199</th>\n",
              "      <td>200</td>\n",
              "      <td>So Good (&amp; Metro Boomin)</td>\n",
              "      <td>Big Sean</td>\n",
              "      <td>184149</td>\n",
              "      <td>https://open.spotify.com/track/0fWBFDRTIuk8ZgN...</td>\n",
              "      <td>01-09-2018</td>\n",
              "    </tr>\n",
              "  </tbody>\n",
              "</table>\n",
              "<p>74200 rows × 6 columns</p>\n",
              "</div>\n",
              "      <button class=\"colab-df-convert\" onclick=\"convertToInteractive('df-6364681f-c79a-40fa-a3e8-ca484e18c6fe')\"\n",
              "              title=\"Convert this dataframe to an interactive table.\"\n",
              "              style=\"display:none;\">\n",
              "        \n",
              "  <svg xmlns=\"http://www.w3.org/2000/svg\" height=\"24px\"viewBox=\"0 0 24 24\"\n",
              "       width=\"24px\">\n",
              "    <path d=\"M0 0h24v24H0V0z\" fill=\"none\"/>\n",
              "    <path d=\"M18.56 5.44l.94 2.06.94-2.06 2.06-.94-2.06-.94-.94-2.06-.94 2.06-2.06.94zm-11 1L8.5 8.5l.94-2.06 2.06-.94-2.06-.94L8.5 2.5l-.94 2.06-2.06.94zm10 10l.94 2.06.94-2.06 2.06-.94-2.06-.94-.94-2.06-.94 2.06-2.06.94z\"/><path d=\"M17.41 7.96l-1.37-1.37c-.4-.4-.92-.59-1.43-.59-.52 0-1.04.2-1.43.59L10.3 9.45l-7.72 7.72c-.78.78-.78 2.05 0 2.83L4 21.41c.39.39.9.59 1.41.59.51 0 1.02-.2 1.41-.59l7.78-7.78 2.81-2.81c.8-.78.8-2.07 0-2.86zM5.41 20L4 18.59l7.72-7.72 1.47 1.35L5.41 20z\"/>\n",
              "  </svg>\n",
              "      </button>\n",
              "      \n",
              "  <style>\n",
              "    .colab-df-container {\n",
              "      display:flex;\n",
              "      flex-wrap:wrap;\n",
              "      gap: 12px;\n",
              "    }\n",
              "\n",
              "    .colab-df-convert {\n",
              "      background-color: #E8F0FE;\n",
              "      border: none;\n",
              "      border-radius: 50%;\n",
              "      cursor: pointer;\n",
              "      display: none;\n",
              "      fill: #1967D2;\n",
              "      height: 32px;\n",
              "      padding: 0 0 0 0;\n",
              "      width: 32px;\n",
              "    }\n",
              "\n",
              "    .colab-df-convert:hover {\n",
              "      background-color: #E2EBFA;\n",
              "      box-shadow: 0px 1px 2px rgba(60, 64, 67, 0.3), 0px 1px 3px 1px rgba(60, 64, 67, 0.15);\n",
              "      fill: #174EA6;\n",
              "    }\n",
              "\n",
              "    [theme=dark] .colab-df-convert {\n",
              "      background-color: #3B4455;\n",
              "      fill: #D2E3FC;\n",
              "    }\n",
              "\n",
              "    [theme=dark] .colab-df-convert:hover {\n",
              "      background-color: #434B5C;\n",
              "      box-shadow: 0px 1px 3px 1px rgba(0, 0, 0, 0.15);\n",
              "      filter: drop-shadow(0px 1px 2px rgba(0, 0, 0, 0.3));\n",
              "      fill: #FFFFFF;\n",
              "    }\n",
              "  </style>\n",
              "\n",
              "      <script>\n",
              "        const buttonEl =\n",
              "          document.querySelector('#df-6364681f-c79a-40fa-a3e8-ca484e18c6fe button.colab-df-convert');\n",
              "        buttonEl.style.display =\n",
              "          google.colab.kernel.accessAllowed ? 'block' : 'none';\n",
              "\n",
              "        async function convertToInteractive(key) {\n",
              "          const element = document.querySelector('#df-6364681f-c79a-40fa-a3e8-ca484e18c6fe');\n",
              "          const dataTable =\n",
              "            await google.colab.kernel.invokeFunction('convertToInteractive',\n",
              "                                                     [key], {});\n",
              "          if (!dataTable) return;\n",
              "\n",
              "          const docLinkHtml = 'Like what you see? Visit the ' +\n",
              "            '<a target=\"_blank\" href=https://colab.research.google.com/notebooks/data_table.ipynb>data table notebook</a>'\n",
              "            + ' to learn more about interactive tables.';\n",
              "          element.innerHTML = '';\n",
              "          dataTable['output_type'] = 'display_data';\n",
              "          await google.colab.output.renderOutput(dataTable, element);\n",
              "          const docLink = document.createElement('div');\n",
              "          docLink.innerHTML = docLinkHtml;\n",
              "          element.appendChild(docLink);\n",
              "        }\n",
              "      </script>\n",
              "    </div>\n",
              "  </div>\n",
              "  "
            ]
          },
          "metadata": {},
          "execution_count": 4
        }
      ]
    },
    {
      "cell_type": "markdown",
      "metadata": {
        "id": "GSnZBp_oGyQT"
      },
      "source": [
        "## #### View the first 5 rows of the dataframe"
      ]
    },
    {
      "cell_type": "code",
      "metadata": {
        "id": "f8bBBtqTmza2",
        "colab": {
          "base_uri": "https://localhost:8080/"
        },
        "outputId": "d05f72bb-ae1c-4afe-82a0-137ae071a3b3"
      },
      "source": [
        "print(df.iloc[0])\n"
      ],
      "execution_count": 80,
      "outputs": [
        {
          "output_type": "stream",
          "name": "stdout",
          "text": [
            "position                                                   196\n",
            "trackname                                        Dennis Rodman\n",
            "artist                                                mansionz\n",
            "streams                                                 166943\n",
            "url          https://open.spotify.com/track/73cAKC1NbxHuFPc...\n",
            "date                                       2017-03-17 00:00:00\n",
            "Name: 15195, dtype: object\n"
          ]
        }
      ]
    },
    {
      "cell_type": "markdown",
      "metadata": {
        "id": "l69qJl_e4spI"
      },
      "source": [
        "####Convert date column to be type datetime"
      ]
    },
    {
      "cell_type": "code",
      "metadata": {
        "id": "AW0NZs5X4pvH",
        "colab": {
          "base_uri": "https://localhost:8080/"
        },
        "outputId": "16c17624-9d79-415a-97fb-c18aa6f4aa51"
      },
      "source": [
        "df['date'] = df['date'].apply(pd.to_datetime)\n",
        "df.info()\n",
        "\n",
        "df['date'] = pd.to_datetime(df['date'])\n"
      ],
      "execution_count": 84,
      "outputs": [
        {
          "output_type": "stream",
          "name": "stdout",
          "text": [
            "<class 'pandas.core.frame.DataFrame'>\n",
            "Int64Index: 886 entries, 15195 to 39415\n",
            "Data columns (total 6 columns):\n",
            " #   Column     Non-Null Count  Dtype         \n",
            "---  ------     --------------  -----         \n",
            " 0   position   886 non-null    int64         \n",
            " 1   trackname  884 non-null    object        \n",
            " 2   artist     884 non-null    object        \n",
            " 3   streams    886 non-null    int64         \n",
            " 4   url        886 non-null    object        \n",
            " 5   date       886 non-null    datetime64[ns]\n",
            "dtypes: datetime64[ns](1), int64(2), object(3)\n",
            "memory usage: 48.5+ KB\n"
          ]
        }
      ]
    },
    {
      "cell_type": "markdown",
      "metadata": {
        "id": "l74CxV8UF4Mt"
      },
      "source": [
        "#### What percentage of total streams come from the top 10 artists?\n",
        "\n",
        "We perform a groupby for an artist and then sum all daily stream counts to obtain a total stream count.\n",
        "After that we sort by values. \n",
        "\n",
        "Notice here that we have a Series so sort_values does not need a name of a column to work.\n",
        "\n",
        "Most answers will have the following syntax:\n",
        "\n",
        "\n",
        "\n",
        "```\n",
        "dataframe.groupby(\"column_name\")[\"column_name\"]\\\n",
        "         .aggragation_method()\\ # i.e. sum(), mean(), etc.\n",
        "         .sort_values(ascending=False) \n",
        "```\n",
        "\n"
      ]
    },
    {
      "cell_type": "code",
      "source": [
        "top_artists = df.groupby(\"artist\")[\"streams\"].sum()\\\n",
        "                       .sort_values(ascending=False)\n",
        "print(top_artists)   \n",
        "superstar_stream_count = top_artists[:10].sum()\n",
        "total_stream_count     = top_artists.sum()\n",
        "print(superstar_stream_count / total_stream_count)\n"
      ],
      "metadata": {
        "colab": {
          "base_uri": "https://localhost:8080/"
        },
        "id": "0Uf7tJZNpkQM",
        "outputId": "bd6fa78d-438a-496a-9d27-10ae1e71b234"
      },
      "execution_count": 89,
      "outputs": [
        {
          "output_type": "stream",
          "name": "stdout",
          "text": [
            "artist\n",
            "DJ Khaled         1971444\n",
            "Mariah Carey      1722225\n",
            "Future            1715855\n",
            "French Montana    1530548\n",
            "Kodak Black       1479849\n",
            "                   ...   \n",
            "DeJ Loaf           152420\n",
            "Bobby McFerrin     151217\n",
            "August Alsina      149475\n",
            "Sam Cooke          145484\n",
            "Phil Collins       143813\n",
            "Name: streams, Length: 487, dtype: int64\n",
            "0.06600220629599009\n"
          ]
        }
      ]
    },
    {
      "cell_type": "markdown",
      "source": [
        "The percentage of streams come from the top 10 artist is following: \n",
        "**6.60%**\n"
      ],
      "metadata": {
        "id": "LaeqLa8MnSRd"
      }
    },
    {
      "cell_type": "markdown",
      "metadata": {
        "id": "Br_5M6XxF4My"
      },
      "source": [
        "#### What percentage of total streams come from the top 10 tracknames?\n",
        "\n",
        "Same logic as above except we group by trackname instead of artist."
      ]
    },
    {
      "cell_type": "code",
      "source": [
        "\n",
        "top_tracks = df.groupby(\"trackname\")[\"streams\"].sum().sort_values(ascending=False)\n",
        "    \n",
        "top_track_stream_count = top_tracks[:10].sum()\n",
        "\n",
        "total_stream_count     = top_tracks.sum()\n",
        "\n",
        "print(top_track_stream_count / total_stream_count)"
      ],
      "metadata": {
        "id": "wFtJdNA8ofUj",
        "colab": {
          "base_uri": "https://localhost:8080/"
        },
        "outputId": "d756bc5f-b3d2-4803-e77f-3aefc9bf92b6"
      },
      "execution_count": 90,
      "outputs": [
        {
          "output_type": "stream",
          "name": "stdout",
          "text": [
            "0.06744051250006494\n"
          ]
        }
      ]
    },
    {
      "cell_type": "markdown",
      "source": [
        "The percentage of streams come from the top 10 artist is following: \n",
        "**6.67%**\n"
      ],
      "metadata": {
        "id": "6KMgU2cmyE5u"
      }
    },
    {
      "cell_type": "markdown",
      "metadata": {
        "id": "Cv7JgaAPF4M2"
      },
      "source": [
        "#### Which artists had the most streams in 2017? List the top 10 artists and the total number of streams on Spotify\n",
        "\n",
        "\n",
        "Please note that to split python code into multiple lines we sometimes need to use the \\ symbol."
      ]
    },
    {
      "cell_type": "code",
      "metadata": {
        "id": "5drpngCt-Y65",
        "colab": {
          "base_uri": "https://localhost:8080/",
          "height": 130
        },
        "outputId": "39bf0298-5eb2-4de0-f67e-694b5d61d57d"
      },
      "source": [
        "```sql\n",
        "SELECT\n",
        "    artist,\n",
        "    SUM(streams) AS total_streams\n",
        "FROM datasets.spotify_daily_rankings_2017_us\n",
        "WHERE DATE_PART('year', date :: DATE) = 2017\n",
        "GROUP BY artist\n",
        "ORDER BY total_streams DESC\n",
        "LIMIT 10"
      ],
      "execution_count": 96,
      "outputs": [
        {
          "output_type": "error",
          "ename": "SyntaxError",
          "evalue": "ignored",
          "traceback": [
            "\u001b[0;36m  File \u001b[0;32m\"<ipython-input-96-8547bd7aa12e>\"\u001b[0;36m, line \u001b[0;32m1\u001b[0m\n\u001b[0;31m    ```sql\u001b[0m\n\u001b[0m    ^\u001b[0m\n\u001b[0;31mSyntaxError\u001b[0m\u001b[0;31m:\u001b[0m invalid syntax\n"
          ]
        }
      ]
    },
    {
      "cell_type": "markdown",
      "metadata": {
        "id": "ercv6DORF4M6"
      },
      "source": [
        "#### Do artists have several tracks in the top 100? 200? List the artists by the number of track names in the top 200 in descending order.\n",
        "\n",
        "The nunique method is the version of the count method to use"
      ]
    },
    {
      "cell_type": "code",
      "metadata": {
        "id": "HYo9QxhnF4M7",
        "colab": {
          "base_uri": "https://localhost:8080/"
        },
        "outputId": "dce550bd-638a-4bba-9238-f7484f61b5fe"
      },
      "source": [
        " df.groupby(\"artist\")[\"trackname\"]\\\n",
        "          .nunique()\\\n",
        "          .sort_values(ascending=False)"
      ],
      "execution_count": 100,
      "outputs": [
        {
          "output_type": "execute_result",
          "data": {
            "text/plain": [
              "artist\n",
              "Lil Peep           2\n",
              "Noah Cyrus         2\n",
              "DJ Snake           2\n",
              "Tee Grizzley       2\n",
              "Taylor Swift       2\n",
              "                  ..\n",
              "Imagine Dragons    1\n",
              "ILoveMakonnen      1\n",
              "Hozier             1\n",
              "Hearts & Colors    1\n",
              "mansionz           1\n",
              "Name: trackname, Length: 487, dtype: int64"
            ]
          },
          "metadata": {},
          "execution_count": 100
        }
      ]
    },
    {
      "cell_type": "markdown",
      "metadata": {
        "id": "Umf6Ra9zF4NA"
      },
      "source": [
        "#### How do the number of streams in the top 10 differ than the number of streams in the top 50? top 100? top 200? Find the average number of streams in the top 10, 50, 100, 200.\n",
        "\n",
        "To solve this task we used a python loop.\n",
        "\n",
        "We iterate over a set of 4 limits and calculate the average for each position limit.\n",
        "\n",
        "We calculate the average with a filter `dataframe.position <= limit`."
      ]
    },
    {
      "cell_type": "code",
      "metadata": {
        "id": "kQKccbmqBTKs",
        "colab": {
          "base_uri": "https://localhost:8080/"
        },
        "outputId": "581beed1-5494-4e44-ebf4-7e76db7373ff"
      },
      "source": [
        "for limit in [10, 50, 100, 200]:\n",
        "    ave_streams = df[df.position <= limit].streams.mean()\n",
        "    print(\"For position limit {0} we got {1} average streams\".format(limit, ave_streams))"
      ],
      "execution_count": 101,
      "outputs": [
        {
          "output_type": "stream",
          "name": "stdout",
          "text": [
            "For position limit 10 we got 1007328.5 average streams\n",
            "For position limit 50 we got 628136.925 average streams\n",
            "For position limit 100 we got 408480.2710622711 average streams\n",
            "For position limit 200 we got 262689.38826185104 average streams\n"
          ]
        }
      ]
    },
    {
      "cell_type": "markdown",
      "metadata": {
        "id": "r5PJZOv-F4NH"
      },
      "source": [
        "#### How many different artists are there in the top 100 vs top 101-200? Compare the number of artists in the top 100 vs the top 101-200.\n",
        "\n",
        "Remember to use the nunique() method"
      ]
    },
    {
      "cell_type": "code",
      "metadata": {
        "id": "YwW8NuX_F4NK",
        "colab": {
          "base_uri": "https://localhost:8080/"
        },
        "outputId": "52c82376-f252-437f-d1ff-a44166ecf17c"
      },
      "source": [
        "print(df[:100])"
      ],
      "execution_count": 99,
      "outputs": [
        {
          "output_type": "stream",
          "name": "stdout",
          "text": [
            "       position                                          trackname  \\\n",
            "15195       196                                      Dennis Rodman   \n",
            "2287         88          i hate u, i love u (feat. olivia o'brien)   \n",
            "678          79          i hate u, i love u (feat. olivia o'brien)   \n",
            "113         114  We Are Young (feat. Janelle Monö_å¡e) - feat....   \n",
            "35479        80                                           do re mi   \n",
            "...         ...                                                ...   \n",
            "2563        164                                          On My Way   \n",
            "26399       200                        Raincoat (feat. Shy Martin)   \n",
            "70537       138  You're A Mean One, Mr. Grinch - From Dr. Seuss...   \n",
            "66753       154  You're A Mean One, Mr. Grinch - From Dr. Seuss...   \n",
            "32993       194                                        Craving You   \n",
            "\n",
            "                  artist  streams  \\\n",
            "15195           mansionz   166943   \n",
            "2287               gnash   245870   \n",
            "678                gnash   242308   \n",
            "113                 fun.   194870   \n",
            "35479          blackbear   321287   \n",
            "...                  ...      ...   \n",
            "2563          Tiö_å«sto   180036   \n",
            "26399          Timeflies   185336   \n",
            "70537  Thurl Ravenscroft   277569   \n",
            "66753  Thurl Ravenscroft   202042   \n",
            "32993       Thomas Rhett   168152   \n",
            "\n",
            "                                                     url       date  \n",
            "15195  https://open.spotify.com/track/73cAKC1NbxHuFPc... 2017-03-17  \n",
            "2287   https://open.spotify.com/track/7vRriwrloYVaoAe... 2017-01-12  \n",
            "678    https://open.spotify.com/track/7vRriwrloYVaoAe... 2017-01-04  \n",
            "113    https://open.spotify.com/track/5rgy6ghBq1eRApC... 2017-01-01  \n",
            "35479  https://open.spotify.com/track/2MX30RliaxJDgmQ... 2017-06-30  \n",
            "...                                                  ...        ...  \n",
            "2563   https://open.spotify.com/track/4hiUYb2nb6NlfTP... 2017-01-13  \n",
            "26399  https://open.spotify.com/track/5xYVqJ7ppf4bTbb... 2017-05-12  \n",
            "70537  https://open.spotify.com/track/6Tof6kPUc2a17GK... 2017-12-22  \n",
            "66753  https://open.spotify.com/track/6Tof6kPUc2a17GK... 2017-12-03  \n",
            "32993  https://open.spotify.com/track/6zLdXcmvIxnAXpz... 2017-06-17  \n",
            "\n",
            "[100 rows x 6 columns]\n"
          ]
        }
      ]
    },
    {
      "cell_type": "markdown",
      "metadata": {
        "id": "Cpg1p2_bF4NP"
      },
      "source": [
        "#### Which artists should the marketing team invest in? Why? Feel free to add any additional analytical research.\n"
      ]
    },
    {
      "cell_type": "code",
      "metadata": {
        "colab": {
          "base_uri": "https://localhost:8080/",
          "height": 130
        },
        "outputId": "6d9b9486-f506-4d8e-ddaa-b0ac89865ad6",
        "id": "a1gfGlKU2qPx"
      },
      "source": [
        "\n",
        "statistics = []\n",
        "for artist, artist_row_indices in groups.items():\n",
        "    count = artist_row_indices.values.shape[0]\n",
        "    if count <= 1:\n",
        "        continue\n",
        "         streams = df.iloc[artist_row_indices][\"streams\"].values\n",
        "          x = np.arange(count)\n",
        "  A = np.vstack([x, np.ones(x.shape[0])]).T\n",
        "   y = streams\n",
        "    m, c = np.linalg.lstsq(A, y, rcond=None)[0]\n",
        "       score = m * count\n",
        "     statistics_dataframe = pd.df(statistics, \n",
        "                                    columns=[\"artist\", \"count\", \"slope\", \"offset\", \"score\"])\n",
        "statistics_dataframe.head()\n",
        "\n",
        "statistics_dataframe\\\n",
        "   .query(\"count >= 10 and count <= 100\")\\\n",
        "   .sort_values(by=['score'], ascending=False)\\\n",
        "   .iloc[:50]"
      ],
      "execution_count": 119,
      "outputs": [
        {
          "output_type": "error",
          "ename": "IndentationError",
          "evalue": "ignored",
          "traceback": [
            "\u001b[0;36m  File \u001b[0;32m\"<tokenize>\"\u001b[0;36m, line \u001b[0;32m16\u001b[0m\n\u001b[0;31m    A = np.vstack([x, np.ones(x.shape[0])]).T\u001b[0m\n\u001b[0m    ^\u001b[0m\n\u001b[0;31mIndentationError\u001b[0m\u001b[0;31m:\u001b[0m unindent does not match any outer indentation level\n"
          ]
        }
      ]
    }
  ]
}